{
 "cells": [
  {
   "cell_type": "code",
   "execution_count": 3,
   "metadata": {},
   "outputs": [
    {
     "name": "stdout",
     "output_type": "stream",
     "text": [
      "x=240, y=200 -> 10800\n"
     ]
    }
   ],
   "source": [
    "bestgain = 0\n",
    "for x in range(401):\n",
    "  for y in range(201):\n",
    "    if (x/60 + y/50 <= 8):\n",
    "      gain = 20*x + 30*y\n",
    "      if (gain > bestgain):\n",
    "        bestgain = gain\n",
    "        bestX = x\n",
    "        bestY = y\n",
    "print(\"x=\" + str(bestX) + \", y=\" + str(bestY) + \" -> \" + str(bestgain))"
   ]
  },
  {
   "cell_type": "code",
   "execution_count": 14,
   "metadata": {},
   "outputs": [
    {
     "name": "stdout",
     "output_type": "stream",
     "text": [
      "2 tv + 45.0 print:\n",
      "cost : 2 * 50.000 + 45.0 * 20.000 = 1000000.0\n",
      "reach: 2 * 2.000.000 + 45.0 * 1.000.000 = 49000000.0\n",
      "4 tv + 40.0 print:\n",
      "cost : 4 * 50.000 + 40.0 * 20.000 = 1000000.0\n",
      "reach: 4 * 2.000.000 + 40.0 * 1.000.000 = 48000000.0\n",
      "8 tv + 30.0 print:\n",
      "cost : 8 * 50.000 + 30.0 * 20.000 = 1000000.0\n",
      "reach: 8 * 2.000.000 + 30.0 * 1.000.000 = 46000000.0\n",
      "12 tv + 20.0 print:\n",
      "cost : 12 * 50.000 + 20.0 * 20.000 = 1000000.0\n",
      "reach: 12 * 2.000.000 + 20.0 * 1.000.000 = 44000000.0\n",
      "15 tv + 12.5 print:\n",
      "cost : 15 * 50.000 + 12.5 * 20.000 = 1000000.0\n",
      "reach: 15 * 2.000.000 + 12.5 * 1.000.000 = 42500000.0\n"
     ]
    }
   ],
   "source": [
    "for numTV in (2, 4, 8, 12, 15):\n",
    "  tvCost = numTV * 50000\n",
    "  custReached = numTV * 2000000\n",
    "  remainingBudget = 1000000 - tvCost\n",
    "  numPrint = remainingBudget / 20000\n",
    "  custReached += numPrint * 1000000\n",
    "  print(str(numTV) + \" tv + \" + str(numPrint) + \" print:\")\n",
    "  print(\"cost : \" + str(numTV) + \" * 50.000 + \" + str(numPrint) + \" * 20.000 = \" + str(numTV*50000 + numPrint * 20000))\n",
    "  print(\"reach: \" + str(numTV) + \" * 2.000.000 + \" + str(numPrint) + \" * 1.000.000 = \" + str(numTV*2000000 + numPrint * 1000000))\n",
    "      "
   ]
  },
  {
   "cell_type": "code",
   "execution_count": null,
   "metadata": {
    "collapsed": true
   },
   "outputs": [],
   "source": []
  }
 ],
 "metadata": {
  "kernelspec": {
   "display_name": "Python 3",
   "language": "python",
   "name": "python3"
  },
  "language_info": {
   "codemirror_mode": {
    "name": "ipython",
    "version": 3
   },
   "file_extension": ".py",
   "mimetype": "text/x-python",
   "name": "python",
   "nbconvert_exporter": "python",
   "pygments_lexer": "ipython3",
   "version": "3.6.3"
  }
 },
 "nbformat": 4,
 "nbformat_minor": 2
}
