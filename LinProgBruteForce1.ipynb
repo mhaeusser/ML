{
 "cells": [
  {
   "cell_type": "code",
   "execution_count": 3,
   "metadata": {},
   "outputs": [
    {
     "name": "stdout",
     "output_type": "stream",
     "text": [
      "x=240, y=200 -> 10800\n"
     ]
    }
   ],
   "source": [
    "bestgain = 0\n",
    "for x in range(401):\n",
    "  for y in range(201):\n",
    "    if (x/60 + y/50 <= 8):\n",
    "      gain = 20*x + 30*y\n",
    "      if (gain > bestgain):\n",
    "        bestgain = gain\n",
    "        bestX = x\n",
    "        bestY = y\n",
    "print(\"x=\" + str(bestX) + \", y=\" + str(bestY) + \" -> \" + str(bestgain))"
   ]
  },
  {
   "cell_type": "code",
   "execution_count": null,
   "metadata": {
    "collapsed": true
   },
   "outputs": [],
   "source": []
  }
 ],
 "metadata": {
  "kernelspec": {
   "display_name": "Python 3",
   "language": "python",
   "name": "python3"
  },
  "language_info": {
   "codemirror_mode": {
    "name": "ipython",
    "version": 3
   },
   "file_extension": ".py",
   "mimetype": "text/x-python",
   "name": "python",
   "nbconvert_exporter": "python",
   "pygments_lexer": "ipython3",
   "version": "3.6.3"
  }
 },
 "nbformat": 4,
 "nbformat_minor": 2
}
